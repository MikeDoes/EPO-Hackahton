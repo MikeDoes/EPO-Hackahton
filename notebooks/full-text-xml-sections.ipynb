{
 "cells": [
  {
   "cell_type": "code",
   "execution_count": 10,
   "metadata": {},
   "outputs": [],
   "source": [
    "import json\n",
    "import os\n",
    "import pandas as pd"
   ]
  },
  {
   "cell_type": "code",
   "execution_count": 2,
   "metadata": {},
   "outputs": [],
   "source": [
    "os.chdir(\"..\")"
   ]
  },
  {
   "cell_type": "code",
   "execution_count": 3,
   "metadata": {},
   "outputs": [],
   "source": [
    "with open(\"section_summary.json\", \"r\") as f:\n",
    "    data = json.load(f)"
   ]
  },
  {
   "cell_type": "code",
   "execution_count": 12,
   "metadata": {},
   "outputs": [],
   "source": [
    "df = pd.DataFrame(data)"
   ]
  },
  {
   "cell_type": "code",
   "execution_count": 39,
   "metadata": {},
   "outputs": [
    {
     "data": {
      "text/plain": [
       "6051"
      ]
     },
     "execution_count": 39,
     "metadata": {},
     "output_type": "execute_result"
    }
   ],
   "source": [
    "len(df['patent_no'].unique())"
   ]
  },
  {
   "cell_type": "code",
   "execution_count": 49,
   "metadata": {},
   "outputs": [
    {
     "data": {
      "text/plain": [
       "4087"
      ]
     },
     "execution_count": 49,
     "metadata": {},
     "output_type": "execute_result"
    }
   ],
   "source": [
    "len(df[df['tag']=='claims']['patent_no'].unique())"
   ]
  },
  {
   "cell_type": "code",
   "execution_count": 50,
   "metadata": {},
   "outputs": [
    {
     "name": "stderr",
     "output_type": "stream",
     "text": [
      "<ipython-input-50-ae2a6373e6ba>:1: UserWarning: Boolean Series key will be reindexed to match DataFrame index.\n",
      "  len(df[df['tag']=='claims'] [df['lang']=='en']  ['patent_no'].unique())\n"
     ]
    },
    {
     "data": {
      "text/plain": [
       "3809"
      ]
     },
     "execution_count": 50,
     "metadata": {},
     "output_type": "execute_result"
    }
   ],
   "source": [
    "len(df[df['tag']=='claims'][df['lang']=='en']['patent_no'].unique())"
   ]
  },
  {
   "cell_type": "code",
   "execution_count": 31,
   "metadata": {},
   "outputs": [
    {
     "data": {
      "text/plain": [
       "en    0.724683\n",
       "de    0.171234\n",
       "fr    0.104083\n",
       "Name: lang, dtype: float64"
      ]
     },
     "execution_count": 31,
     "metadata": {},
     "output_type": "execute_result"
    }
   ],
   "source": [
    "df.lang.value_counts(normalize=True)"
   ]
  },
  {
   "cell_type": "code",
   "execution_count": 51,
   "metadata": {},
   "outputs": [
    {
     "data": {
      "text/html": [
       "<div>\n",
       "<style scoped>\n",
       "    .dataframe tbody tr th:only-of-type {\n",
       "        vertical-align: middle;\n",
       "    }\n",
       "\n",
       "    .dataframe tbody tr th {\n",
       "        vertical-align: top;\n",
       "    }\n",
       "\n",
       "    .dataframe thead th {\n",
       "        text-align: right;\n",
       "    }\n",
       "</style>\n",
       "<table border=\"1\" class=\"dataframe\">\n",
       "  <thead>\n",
       "    <tr style=\"text-align: right;\">\n",
       "      <th></th>\n",
       "      <th>patent_no</th>\n",
       "      <th>id</th>\n",
       "      <th>tag</th>\n",
       "      <th>lang</th>\n",
       "      <th>srep-office</th>\n",
       "      <th>date-produced</th>\n",
       "      <th>srep-type</th>\n",
       "      <th>status</th>\n",
       "      <th>amend-claim-type</th>\n",
       "    </tr>\n",
       "  </thead>\n",
       "  <tbody>\n",
       "    <tr>\n",
       "      <th>0</th>\n",
       "      <td>EP16151184W1B9</td>\n",
       "      <td>EP16151184B9W1</td>\n",
       "      <td>SDOBI</td>\n",
       "      <td>en</td>\n",
       "      <td>NaN</td>\n",
       "      <td>NaN</td>\n",
       "      <td>NaN</td>\n",
       "      <td>NaN</td>\n",
       "      <td>NaN</td>\n",
       "    </tr>\n",
       "    <tr>\n",
       "      <th>1</th>\n",
       "      <td>EP16151184W1B9</td>\n",
       "      <td>desc</td>\n",
       "      <td>description</td>\n",
       "      <td>en</td>\n",
       "      <td>NaN</td>\n",
       "      <td>NaN</td>\n",
       "      <td>NaN</td>\n",
       "      <td>NaN</td>\n",
       "      <td>NaN</td>\n",
       "    </tr>\n",
       "    <tr>\n",
       "      <th>2</th>\n",
       "      <td>EP16151184W1B9</td>\n",
       "      <td>claims01</td>\n",
       "      <td>claims</td>\n",
       "      <td>en</td>\n",
       "      <td>NaN</td>\n",
       "      <td>NaN</td>\n",
       "      <td>NaN</td>\n",
       "      <td>NaN</td>\n",
       "      <td>NaN</td>\n",
       "    </tr>\n",
       "    <tr>\n",
       "      <th>3</th>\n",
       "      <td>EP16151184W1B9</td>\n",
       "      <td>claims02</td>\n",
       "      <td>claims</td>\n",
       "      <td>de</td>\n",
       "      <td>NaN</td>\n",
       "      <td>NaN</td>\n",
       "      <td>NaN</td>\n",
       "      <td>NaN</td>\n",
       "      <td>NaN</td>\n",
       "    </tr>\n",
       "    <tr>\n",
       "      <th>4</th>\n",
       "      <td>EP16151184W1B9</td>\n",
       "      <td>claims03</td>\n",
       "      <td>claims</td>\n",
       "      <td>fr</td>\n",
       "      <td>NaN</td>\n",
       "      <td>NaN</td>\n",
       "      <td>NaN</td>\n",
       "      <td>NaN</td>\n",
       "      <td>NaN</td>\n",
       "    </tr>\n",
       "    <tr>\n",
       "      <th>...</th>\n",
       "      <td>...</td>\n",
       "      <td>...</td>\n",
       "      <td>...</td>\n",
       "      <td>...</td>\n",
       "      <td>...</td>\n",
       "      <td>...</td>\n",
       "      <td>...</td>\n",
       "      <td>...</td>\n",
       "      <td>...</td>\n",
       "    </tr>\n",
       "    <tr>\n",
       "      <th>31057</th>\n",
       "      <td>EP20215102NWA2</td>\n",
       "      <td>abst</td>\n",
       "      <td>abstract</td>\n",
       "      <td>en</td>\n",
       "      <td>NaN</td>\n",
       "      <td>NaN</td>\n",
       "      <td>NaN</td>\n",
       "      <td>NaN</td>\n",
       "      <td>NaN</td>\n",
       "    </tr>\n",
       "    <tr>\n",
       "      <th>31058</th>\n",
       "      <td>EP20215102NWA2</td>\n",
       "      <td>desc</td>\n",
       "      <td>description</td>\n",
       "      <td>en</td>\n",
       "      <td>NaN</td>\n",
       "      <td>NaN</td>\n",
       "      <td>NaN</td>\n",
       "      <td>NaN</td>\n",
       "      <td>NaN</td>\n",
       "    </tr>\n",
       "    <tr>\n",
       "      <th>31059</th>\n",
       "      <td>EP20215102NWA2</td>\n",
       "      <td>claims01</td>\n",
       "      <td>claims</td>\n",
       "      <td>en</td>\n",
       "      <td>NaN</td>\n",
       "      <td>NaN</td>\n",
       "      <td>NaN</td>\n",
       "      <td>NaN</td>\n",
       "      <td>NaN</td>\n",
       "    </tr>\n",
       "    <tr>\n",
       "      <th>31060</th>\n",
       "      <td>EP20215102NWA2</td>\n",
       "      <td>draw</td>\n",
       "      <td>drawings</td>\n",
       "      <td>en</td>\n",
       "      <td>NaN</td>\n",
       "      <td>NaN</td>\n",
       "      <td>NaN</td>\n",
       "      <td>NaN</td>\n",
       "      <td>NaN</td>\n",
       "    </tr>\n",
       "    <tr>\n",
       "      <th>31061</th>\n",
       "      <td>EP20215102NWA2</td>\n",
       "      <td>ref-list</td>\n",
       "      <td>ep-reference-list</td>\n",
       "      <td>NaN</td>\n",
       "      <td>NaN</td>\n",
       "      <td>NaN</td>\n",
       "      <td>NaN</td>\n",
       "      <td>NaN</td>\n",
       "      <td>NaN</td>\n",
       "    </tr>\n",
       "  </tbody>\n",
       "</table>\n",
       "<p>31062 rows × 9 columns</p>\n",
       "</div>"
      ],
      "text/plain": [
       "            patent_no              id                tag lang srep-office  \\\n",
       "0      EP16151184W1B9  EP16151184B9W1              SDOBI   en         NaN   \n",
       "1      EP16151184W1B9            desc        description   en         NaN   \n",
       "2      EP16151184W1B9        claims01             claims   en         NaN   \n",
       "3      EP16151184W1B9        claims02             claims   de         NaN   \n",
       "4      EP16151184W1B9        claims03             claims   fr         NaN   \n",
       "...               ...             ...                ...  ...         ...   \n",
       "31057  EP20215102NWA2            abst           abstract   en         NaN   \n",
       "31058  EP20215102NWA2            desc        description   en         NaN   \n",
       "31059  EP20215102NWA2        claims01             claims   en         NaN   \n",
       "31060  EP20215102NWA2            draw           drawings   en         NaN   \n",
       "31061  EP20215102NWA2        ref-list  ep-reference-list  NaN         NaN   \n",
       "\n",
       "      date-produced srep-type status amend-claim-type  \n",
       "0               NaN       NaN    NaN              NaN  \n",
       "1               NaN       NaN    NaN              NaN  \n",
       "2               NaN       NaN    NaN              NaN  \n",
       "3               NaN       NaN    NaN              NaN  \n",
       "4               NaN       NaN    NaN              NaN  \n",
       "...             ...       ...    ...              ...  \n",
       "31057           NaN       NaN    NaN              NaN  \n",
       "31058           NaN       NaN    NaN              NaN  \n",
       "31059           NaN       NaN    NaN              NaN  \n",
       "31060           NaN       NaN    NaN              NaN  \n",
       "31061           NaN       NaN    NaN              NaN  \n",
       "\n",
       "[31062 rows x 9 columns]"
      ]
     },
     "execution_count": 51,
     "metadata": {},
     "output_type": "execute_result"
    }
   ],
   "source": [
    "df"
   ]
  },
  {
   "cell_type": "code",
   "execution_count": null,
   "metadata": {},
   "outputs": [],
   "source": [
    "df[df['tag']=='unique']"
   ]
  },
  {
   "cell_type": "code",
   "execution_count": null,
   "metadata": {},
   "outputs": [],
   "source": [
    "pd.read_json('claims_dataset.json')"
   ]
  }
 ],
 "metadata": {
  "kernelspec": {
   "display_name": "Python 3.8.2 64-bit",
   "language": "python",
   "name": "python3"
  },
  "language_info": {
   "codemirror_mode": {
    "name": "ipython",
    "version": 3
   },
   "file_extension": ".py",
   "mimetype": "text/x-python",
   "name": "python",
   "nbconvert_exporter": "python",
   "pygments_lexer": "ipython3",
   "version": "3.8.2"
  },
  "orig_nbformat": 4,
  "vscode": {
   "interpreter": {
    "hash": "31f2aee4e71d21fbe5cf8b01ff0e069b9275f58929596ceb00d14d90e3e16cd6"
   }
  }
 },
 "nbformat": 4,
 "nbformat_minor": 2
}
