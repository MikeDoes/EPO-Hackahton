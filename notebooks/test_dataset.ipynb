{
 "cells": [
  {
   "cell_type": "code",
   "execution_count": 1,
   "metadata": {},
   "outputs": [],
   "source": [
    "import os\n",
    "import pandas as pd\n",
    "import numpy as np\n",
    "import json\n"
   ]
  },
  {
   "cell_type": "code",
   "execution_count": 30,
   "metadata": {},
   "outputs": [],
   "source": [
    "os.chdir('/Users/adamnovak/Desktop/EPO/EPO-Hackahton/notebooks')"
   ]
  },
  {
   "cell_type": "code",
   "execution_count": 32,
   "metadata": {},
   "outputs": [],
   "source": [
    "f=open('/Users/adamnovak/Desktop/EPO/EPO-Hackahton/epo/data/ml_datasets/claims_dataset_with_titles_with_classes.json')\n",
    "data=json.load(f)"
   ]
  },
  {
   "cell_type": "code",
   "execution_count": 55,
   "metadata": {},
   "outputs": [],
   "source": [
    "# Text Mining and analysis #\n",
    "\n",
    "def parse_classes(dataset, cl):\n",
    "    return list(filter(lambda x: x[\"main_classification_symbol\"]==cl, dataset))\n",
    "\n",
    "def extract_text(dataset):\n",
    "    return [dataset[i][\"claim-text\"] for i in range(len(dataset))]"
   ]
  },
  {
   "cell_type": "code",
   "execution_count": 56,
   "metadata": {},
   "outputs": [],
   "source": [
    "a=parse_classes(data,\"Y\")\n",
    "a_text=extract_text(a)"
   ]
  },
  {
   "cell_type": "code",
   "execution_count": 65,
   "metadata": {},
   "outputs": [
    {
     "data": {
      "text/plain": [
       "True"
      ]
     },
     "execution_count": 65,
     "metadata": {},
     "output_type": "execute_result"
    }
   ],
   "source": [
    "a[0]['patent_no']==a[3]['patent_no']"
   ]
  },
  {
   "cell_type": "code",
   "execution_count": 74,
   "metadata": {},
   "outputs": [
    {
     "name": "stdout",
     "output_type": "stream",
     "text": [
      "8342\n",
      "8343\n",
      "8344\n",
      "8345\n",
      "8346\n",
      "8347\n",
      "8348\n",
      "8349\n",
      "8350\n"
     ]
    }
   ],
   "source": [
    "for i in range(len(data)):\n",
    "    if data[i][\"patent_no\"]=='EP16201972NWB1':\n",
    "        print(i)"
   ]
  },
  {
   "cell_type": "code",
   "execution_count": 78,
   "metadata": {},
   "outputs": [
    {
     "data": {
      "text/plain": [
       "'A system (802) comprising:\\n'"
      ]
     },
     "execution_count": 78,
     "metadata": {},
     "output_type": "execute_result"
    }
   ],
   "source": [
    "data[8342][\"claim-text\"]"
   ]
  },
  {
   "cell_type": "code",
   "execution_count": 70,
   "metadata": {},
   "outputs": [
    {
     "data": {
      "text/plain": [
       "{'patent_no': 'EP16151184W1B9',\n",
       " 'claim-text': 'Device according to Claim 2, ',\n",
       " 'title': 'MARKED CONTAINER FOR MEDICAL USE',\n",
       " 'classifications': ['A61J 2205/30',\n",
       "  'C03C 23/0025',\n",
       "  'A61M 2207/00',\n",
       "  'B41M 7/00',\n",
       "  'B41M 5/24',\n",
       "  'G06K 9/00577',\n",
       "  'B41M 7/009',\n",
       "  'A61J 1/00',\n",
       "  'A61M 2205/6063',\n",
       "  'A61M 5/3129',\n",
       "  'G06K 19/06046',\n",
       "  'A61J 2205/10',\n",
       "  'A61J 2205/50'],\n",
       " 'main_classification_symbol': 'A'}"
      ]
     },
     "execution_count": 70,
     "metadata": {},
     "output_type": "execute_result"
    }
   ],
   "source": [
    "data[2]"
   ]
  },
  {
   "cell_type": "code",
   "execution_count": null,
   "metadata": {},
   "outputs": [],
   "source": []
  }
 ],
 "metadata": {
  "kernelspec": {
   "display_name": "Python 3",
   "language": "python",
   "name": "python3"
  },
  "language_info": {
   "codemirror_mode": {
    "name": "ipython",
    "version": 3
   },
   "file_extension": ".py",
   "mimetype": "text/x-python",
   "name": "python",
   "nbconvert_exporter": "python",
   "pygments_lexer": "ipython3",
   "version": "3.6.8"
  }
 },
 "nbformat": 4,
 "nbformat_minor": 2
}
