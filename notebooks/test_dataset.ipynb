{
 "cells": [
  {
   "cell_type": "code",
   "execution_count": 1,
   "metadata": {},
   "outputs": [
    {
     "name": "stderr",
     "output_type": "stream",
     "text": [
      "The cache for model files in Transformers v4.22.0 has been updated. Migrating your old cache. This is a one-time only operation. You can interrupt this and resume the migration later on by calling `transformers.utils.move_cache()`.\n"
     ]
    },
    {
     "name": "stdout",
     "output_type": "stream",
     "text": [
      "Moving 0 files to the new cache system\n"
     ]
    },
    {
     "data": {
      "application/vnd.jupyter.widget-view+json": {
       "model_id": "f3071021febf421a95fabf990e0861db",
       "version_major": 2,
       "version_minor": 0
      },
      "text/plain": [
       "0it [00:00, ?it/s]"
      ]
     },
     "metadata": {},
     "output_type": "display_data"
    }
   ],
   "source": [
    "import os\n",
    "import pandas as pd\n",
    "import numpy as np\n",
    "import json\n",
    "from collections import Counter\n",
    "import matplotlib.pyplot as plt\n",
    "from scipy.stats import linregress\n",
    "import torch\n",
    "from transformers import AutoTokenizer"
   ]
  },
  {
   "cell_type": "code",
   "execution_count": 2,
   "metadata": {},
   "outputs": [],
   "source": [
    "os.chdir('/Users/adamnovak/Desktop/EPO/EPO-Hackahton/notebooks')"
   ]
  },
  {
   "cell_type": "code",
   "execution_count": 3,
   "metadata": {},
   "outputs": [],
   "source": [
    "f=open('/Users/adamnovak/Desktop/EPO/EPO-Hackahton/epo/data/ml_datasets/claims_dataset_with_titles_with_classes.json')\n",
    "data=json.load(f)"
   ]
  },
  {
   "cell_type": "code",
   "execution_count": 4,
   "metadata": {},
   "outputs": [],
   "source": [
    "# Text Mining and analysis #\n",
    "\n",
    "class Claims: \n",
    "    \n",
    "    def __init__(self, dataset: list, cl: list): \n",
    "        self.dataset=dataset\n",
    "        self.cl=cl\n",
    "        self.split=self.extract_text(self.parse_classes())\n",
    "        self.combined=self.combine_text()\n",
    "        self.count=Counter(self.combined.split(\" \"))\n",
    "        \n",
    "    def parse_classes(self):\n",
    "        return list(filter(lambda x: x[\"main_classification_symbol\"] in self.cl, self.dataset))\n",
    "\n",
    "    def extract_text(self, text: list):\n",
    "        return [text[i][\"claim-text\"] for i in range(len(text)) if text[i][\"claim-text\"]!=None]\n",
    "    \n",
    "    def combine_text(self):\n",
    "        parsed=self.parse_classes()\n",
    "        extracted=self.extract_text(parsed)\n",
    "        combined=\"\".join(extracted)\n",
    "        return combined \n",
    "    \n",
    "    def most_frequent(self, num: int):\n",
    "        return self.count.most_common(num)\n",
    "        \n"
   ]
  },
  {
   "cell_type": "code",
   "execution_count": 5,
   "metadata": {},
   "outputs": [],
   "source": [
    "sustainable=Claims(data,['Y'])\n",
    "not_sustainable=Claims(data,['A','B','C','D','E','F','G','H'])"
   ]
  },
  {
   "cell_type": "code",
   "execution_count": 6,
   "metadata": {},
   "outputs": [],
   "source": [
    "sust_common=sustainable.most_frequent(200)\n",
    "nonsust_common=not_sustainable.most_frequent(200)"
   ]
  },
  {
   "cell_type": "code",
   "execution_count": 13,
   "metadata": {},
   "outputs": [
    {
     "data": {
      "image/png": "[encoded data removed]",
      "text/plain": [
       "<Figure size 640x480 with 1 Axes>"
      ]
     },
     "metadata": {},
     "output_type": "display_data"
    }
   ],
   "source": [
    "x_axis=[np.log(k) for k in range(1,201)]\n",
    "plt.scatter(x_axis,[np.log(v) for (u,v) in sust_common])\n",
    "plt.scatter(x_axis,[np.log(v) for (u,v) in nonsust_common])\n",
    "plt.title(\"Zipf's Law for Text\")\n",
    "plt.legend(labels=[\"sustainable\",\"not_sustainable\"])\n",
    "plt.show()"
   ]
  },
  {
   "cell_type": "code",
   "execution_count": 14,
   "metadata": {},
   "outputs": [
    {
     "data": {
      "text/plain": [
       "(-1.0058397549763851, -1.095153421858193)"
      ]
     },
     "execution_count": 14,
     "metadata": {},
     "output_type": "execute_result"
    }
   ],
   "source": [
    "slope_sust=linregress(x_axis,[np.log(v) for (u,v) in sust_common]).slope\n",
    "slope_nonsust=linregress(x_axis,[np.log(v) for (u,v) in nonsust_common]).slope\n",
    "\n",
    "slope_sust, slope_nonsust"
   ]
  },
  {
   "cell_type": "code",
   "execution_count": 7,
   "metadata": {},
   "outputs": [],
   "source": [
    "# Starting BERT Analysis #\n",
    "\n",
    "model_name='distilbert-base-uncased'\n",
    "tokenizer=AutoTokenizer.from_pretrained(model_name)"
   ]
  },
  {
   "cell_type": "code",
   "execution_count": 8,
   "metadata": {},
   "outputs": [],
   "source": [
    "inp=sustainable.split\n",
    "output=tokenizer.encode_plus(inp[0],\n",
    "                            add_special_tokens=True,\n",
    "                            padding=\"max_length\",\n",
    "                            max_length=20,\n",
    "                            return_tensors='pt',\n",
    "                            truncation=True,\n",
    "                            return_attention_mask=True)"
   ]
  },
  {
   "cell_type": "code",
   "execution_count": 13,
   "metadata": {},
   "outputs": [],
   "source": [
    "vocab=tokenizer.get_vocab()\n",
    "inverse_vocab={u:v for v,u in vocab.items()}"
   ]
  },
  {
   "cell_type": "code",
   "execution_count": 20,
   "metadata": {},
   "outputs": [],
   "source": [
    "tok=\" \".join([inverse_vocab[i] for i in output[\"input_ids\"].tolist()[0]])"
   ]
  },
  {
   "cell_type": "code",
   "execution_count": 21,
   "metadata": {},
   "outputs": [
    {
     "data": {
      "text/plain": [
       "'[CLS] a carbon blade ( 1 ) for a wind turbine , comprising : [SEP] [PAD] [PAD] [PAD] [PAD] [PAD]'"
      ]
     },
     "execution_count": 21,
     "metadata": {},
     "output_type": "execute_result"
    }
   ],
   "source": [
    "tok"
   ]
  },
  {
   "cell_type": "code",
   "execution_count": null,
   "metadata": {},
   "outputs": [],
   "source": []
  }
 ],
 "metadata": {
  "kernelspec": {
   "display_name": "Python 3 (ipykernel)",
   "language": "python",
   "name": "python3"
  },
  "language_info": {
   "codemirror_mode": {
    "name": "ipython",
    "version": 3
   },
   "file_extension": ".py",
   "mimetype": "text/x-python",
   "name": "python",
   "nbconvert_exporter": "python",
   "pygments_lexer": "ipython3",
   "version": "3.7.7"
  }
 },
 "nbformat": 4,
 "nbformat_minor": 2
}
