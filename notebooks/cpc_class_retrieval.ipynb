{
 "cells": [
  {
   "cell_type": "code",
   "execution_count": 2,
   "metadata": {},
   "outputs": [],
   "source": [
    "import os\n",
    "os.chdir(\"..\")"
   ]
  },
  {
   "cell_type": "code",
   "execution_count": 3,
   "metadata": {},
   "outputs": [],
   "source": [
    "import json\n",
    "import pandas as pd\n",
    "import xml.etree.ElementTree as ET\n",
    "from epo.text_data_processing import open_xml_file\n",
    "from tqdm import tqdm"
   ]
  },
  {
   "cell_type": "code",
   "execution_count": 4,
   "metadata": {},
   "outputs": [],
   "source": [
    "with open(\"epo/data/ml_datasets/claims_dataset_with_titles_with_classes.json\", \"r\") as f:\n",
    "    data = json.load(f)\n",
    "df = pd.DataFrame(data)\n",
    "root = open_xml_file('data/cpc_xmls/complete_cpc.xml')"
   ]
  },
  {
   "cell_type": "code",
   "execution_count": 5,
   "metadata": {},
   "outputs": [
    {
     "data": {
      "text/plain": [
       "3809"
      ]
     },
     "execution_count": 5,
     "metadata": {},
     "output_type": "execute_result"
    }
   ],
   "source": [
    "len(df['patent_no'].drop_duplicates())"
   ]
  },
  {
   "cell_type": "code",
   "execution_count": 6,
   "metadata": {},
   "outputs": [
    {
     "name": "stdout",
     "output_type": "stream",
     "text": [
      "G06K9/00798\n",
      "fail\n",
      "H04L2209/38\n",
      "fail\n",
      "H04L67/20\n",
      "fail\n"
     ]
    }
   ],
   "source": [
    "dic = {}\n",
    "count = 0\n",
    "\n",
    "for index, patent in df.iloc[df['patent_no'].drop_duplicates().index].iterrows():\n",
    "    \n",
    "    for cpc_class in patent['classifications']:\n",
    "        cpc_class = cpc_class.replace(\" \", \"\")\n",
    "        \n",
    "        try:\n",
    "            output = root.findall(f\".//*[@code='{cpc_class}']\")[0]\n",
    "\n",
    "        except:\n",
    "            try:\n",
    "                output = root.findall(f\".//*[@code='{cpc_class[:-1]}']\")[0]\n",
    "            \n",
    "            except:\n",
    "                print(cpc_class)\n",
    "                print('fail')\n",
    "        \n",
    "        dic[output.tag] = dic.get(output.tag, 0) + 1\n",
    "    \n",
    "    count += 1\n",
    "    if count >= 100:\n",
    "        break    "
   ]
  },
  {
   "cell_type": "code",
   "execution_count": 9,
   "metadata": {},
   "outputs": [
    {
     "data": {
      "text/plain": [
       "{'sub_class_1': 180,\n",
       " 'sub_class_2': 223,\n",
       " 'main_class': 53,\n",
       " 'sub_class_3': 144,\n",
       " 'sub_class_4': 73,\n",
       " 'sub_class_5': 43,\n",
       " 'sub_class_6': 23,\n",
       " 'sub_class_8': 6,\n",
       " 'sub_class_7': 8}"
      ]
     },
     "execution_count": 9,
     "metadata": {},
     "output_type": "execute_result"
    }
   ],
   "source": [
    "dic"
   ]
  },
  {
   "cell_type": "markdown",
   "metadata": {},
   "source": [
    "# Appending XML"
   ]
  },
  {
   "cell_type": "code",
   "execution_count": null,
   "metadata": {},
   "outputs": [],
   "source": [
    "root = ET.Element(\"root\")\n",
    "path = 'data/cpc_xmls'\n",
    "\n",
    "for item in sorted(os.listdir(path)):\n",
    "    schema = open_xml_file(path+'/'+item)\n",
    "    root.append(schema)\n",
    "    "
   ]
  }
 ],
 "metadata": {
  "kernelspec": {
   "display_name": "Python 3.8.2 64-bit",
   "language": "python",
   "name": "python3"
  },
  "language_info": {
   "codemirror_mode": {
    "name": "ipython",
    "version": 3
   },
   "file_extension": ".py",
   "mimetype": "text/x-python",
   "name": "python",
   "nbconvert_exporter": "python",
   "pygments_lexer": "ipython3",
   "version": "3.8.2"
  },
  "orig_nbformat": 4,
  "vscode": {
   "interpreter": {
    "hash": "31f2aee4e71d21fbe5cf8b01ff0e069b9275f58929596ceb00d14d90e3e16cd6"
   }
  }
 },
 "nbformat": 4,
 "nbformat_minor": 2
}
